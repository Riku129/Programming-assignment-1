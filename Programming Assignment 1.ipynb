{
 "cells": [
  {
   "cell_type": "code",
   "execution_count": 3,
   "id": "9f1053d3",
   "metadata": {},
   "outputs": [],
   "source": [
    "#Adham Howaidy"
   ]
  },
  {
   "cell_type": "code",
   "execution_count": null,
   "id": "8b66a020",
   "metadata": {},
   "outputs": [],
   "source": [
    "###Programming Assignment 1\n",
    "\n",
    "###CS150\n",
    "\n",
    "###Computer Programming for the Liberal Arts\n",
    "\n",
    "###Fall 2021\n",
    "\n",
    "###Pyhton V3"
   ]
  },
  {
   "cell_type": "code",
   "execution_count": 3,
   "id": "cfc29cd6",
   "metadata": {},
   "outputs": [],
   "source": [
    "x = 44.3"
   ]
  },
  {
   "cell_type": "code",
   "execution_count": 4,
   "id": "0d0224ff",
   "metadata": {},
   "outputs": [],
   "source": [
    "y = 16"
   ]
  },
  {
   "cell_type": "code",
   "execution_count": 5,
   "id": "1c4d7923",
   "metadata": {},
   "outputs": [
    {
     "name": "stdout",
     "output_type": "stream",
     "text": [
      "The sum is 60.3\n"
     ]
    }
   ],
   "source": [
    "print(\"The sum is\", x+y)"
   ]
  },
  {
   "cell_type": "code",
   "execution_count": 14,
   "id": "1cf498d0",
   "metadata": {},
   "outputs": [
    {
     "name": "stdout",
     "output_type": "stream",
     "text": [
      "The difference is 28.299999999999997\n"
     ]
    }
   ],
   "source": [
    "print(\"The difference is\", x-y)"
   ]
  },
  {
   "cell_type": "code",
   "execution_count": 7,
   "id": "bc0069c4",
   "metadata": {},
   "outputs": [
    {
     "name": "stdout",
     "output_type": "stream",
     "text": [
      "The product is 708.8\n"
     ]
    }
   ],
   "source": [
    "print(\"The product is\", x*y)"
   ]
  },
  {
   "cell_type": "code",
   "execution_count": 8,
   "id": "8711fab5",
   "metadata": {},
   "outputs": [
    {
     "name": "stdout",
     "output_type": "stream",
     "text": [
      "The quotient is 2.76875\n"
     ]
    }
   ],
   "source": [
    "print(\"The quotient is\", x/y)"
   ]
  },
  {
   "cell_type": "code",
   "execution_count": 9,
   "id": "8a65b63c",
   "metadata": {},
   "outputs": [
    {
     "name": "stdout",
     "output_type": "stream",
     "text": [
      "<class 'float'>\n"
     ]
    }
   ],
   "source": [
    "print(type(x))"
   ]
  }
 ],
 "metadata": {
  "kernelspec": {
   "display_name": "Python 3",
   "language": "python",
   "name": "python3"
  },
  "language_info": {
   "codemirror_mode": {
    "name": "ipython",
    "version": 3
   },
   "file_extension": ".py",
   "mimetype": "text/x-python",
   "name": "python",
   "nbconvert_exporter": "python",
   "pygments_lexer": "ipython3",
   "version": "3.8.8"
  }
 },
 "nbformat": 4,
 "nbformat_minor": 5
}
